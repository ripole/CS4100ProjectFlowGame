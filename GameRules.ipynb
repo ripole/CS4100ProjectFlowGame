{
 "cells": [
  {
   "cell_type": "code",
   "execution_count": 22,
   "id": "bdbbb449",
   "metadata": {},
   "outputs": [],
   "source": [
    "import numpy as np\n",
    "class node:\n",
    "    #initializes a node with x,y coordinates, a color, and a root\n",
    "    def __init__(color, root, x, y):\n",
    "        self.x = x\n",
    "        self.y = y\n",
    "        self.color = color\n",
    "        #boolean True if it is a root\n",
    "        self.root = root\n",
    "        self.previous = previous\n",
    "        self.next = next\n",
    "    \n",
    "    #\n",
    "    def extendPath(x,y):\n",
    "        if np.absolute(self.x - x) != 1 or np.absolute(self.y - y) != 1:\n",
    "            raise Exception(\"Not a continous path\")\n",
    "        if self.root == True:\n",
    "            for i in range(4):\n",
    "                return\n",
    "\n",
    "    \n",
    "        "
   ]
  },
  {
   "cell_type": "code",
   "execution_count": 24,
   "id": "e872d9f0",
   "metadata": {},
   "outputs": [],
   "source": [
    "class board:\n",
    "    def __init__(board):\n",
    "        self.board = board\n",
    "        \n",
    "    def validPos(x,y):\n",
    "        if y > 0 and y < self.board.size and x > 0 and x < self.board[0].size:\n",
    "            return True\n",
    "        else:\n",
    "            return False\n",
    "        \n",
    "    def boardFilled():\n",
    "        flag = True\n",
    "        for x in self.board[0].size:\n",
    "            for y in self.board.size:\n",
    "                if self.board[y][x].color == \"Black\":\n",
    "                    flag = False\n",
    "        return flag\n",
    "    \n",
    "    \n",
    "    #Changes the color, previous, and next of node in position I,J\n",
    "    #The original node is X,Y and the path we are extending to is I,J\n",
    "    #Checks to see if I,J is in a valid position\n",
    "    #Checks the X,Y and I,J are adjacent\n",
    "    #\n",
    "    def extendPath(x,y,i,j):\n",
    "        if not validPos(i,j):\n",
    "            raise Exception(\"Not a valid position\")\n",
    "        original = board[y][x]\n",
    "        new = board[j][i]\n",
    "        #Makes sure that the nodes are adjacent\n",
    "        if np.absolute(x - i) != 1 or np.absolute(y - j) != 1:\n",
    "            raise Exception(\"Not a continous path\")\n",
    "        #Checks for mulitdirectional pathing from a root\n",
    "        if original.root and original.path.size > 1:\n",
    "            raise Exception(\"Root path is not empty\")\n",
    "        #Checks for new square being another color's root\n",
    "        if new.root and orignal.color != new.color:\n",
    "            raise Exception(\"Cannot overide a root\")\n",
    "        if original.next.color != \"Black\":\n",
    "            raise Exception(\"Paths cannot diverge\")\n",
    "            \n",
    "        original.next = new\n",
    "        new.color = original.color\n",
    "        new.previous = original\n",
    "        \n"
   ]
  },
  {
   "cell_type": "code",
   "execution_count": 25,
   "id": "bbb54d58",
   "metadata": {},
   "outputs": [
    {
     "data": {
      "text/plain": [
       "4"
      ]
     },
     "execution_count": 25,
     "metadata": {},
     "output_type": "execute_result"
    }
   ],
   "source": [
    "board = np.array([1,2,3,4])\n",
    "board.size"
   ]
  },
  {
   "cell_type": "code",
   "execution_count": null,
   "id": "1af96072",
   "metadata": {},
   "outputs": [],
   "source": []
  }
 ],
 "metadata": {
  "kernelspec": {
   "display_name": "Python 3 (ipykernel)",
   "language": "python",
   "name": "python3"
  },
  "language_info": {
   "codemirror_mode": {
    "name": "ipython",
    "version": 3
   },
   "file_extension": ".py",
   "mimetype": "text/x-python",
   "name": "python",
   "nbconvert_exporter": "python",
   "pygments_lexer": "ipython3",
   "version": "3.9.19"
  }
 },
 "nbformat": 4,
 "nbformat_minor": 5
}
