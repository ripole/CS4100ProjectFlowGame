{
 "cells": [
  {
   "cell_type": "code",
   "execution_count": 19,
   "id": "14c8dbb8",
   "metadata": {},
   "outputs": [],
   "source": [
    "import numpy as np\n",
    "class node:\n",
    "    #initializes a node with x,y coordinates, a color, and a root\n",
    "    def __init__(color, root, x, y):\n",
    "        self.x = x\n",
    "        self.y = y\n",
    "        self.color = color\n",
    "        #boolean True if it is a root\n",
    "        self.root = root\n",
    "        self.path = []\n",
    "        \n",
    "    def extendPath(x,y):\n",
    "        if np.absolute(self.x - x) != 1 or np.absolute(self.y - y) != 1:\n",
    "            raise Exception(\"Not a continous path\")\n",
    "        if self.root == True:\n",
    "            for i in range(4):\n",
    "                return\n",
    "\n",
    "    \n",
    "        "
   ]
  },
  {
   "cell_type": "code",
   "execution_count": 13,
   "id": "18882461",
   "metadata": {},
   "outputs": [],
   "source": [
    "class board:\n",
    "    def __init__(board):\n",
    "        self.board = board\n",
    "        \n",
    "    def validPos(x,y):\n",
    "        if y > 0 and y < self.board.size and x > 0 and x < self.board[0].size:\n",
    "            return True\n",
    "        else:\n",
    "            return False\n",
    "        \n",
    "    def boardFilled():\n",
    "        flag == True\n",
    "        for x in self.board[0].size:\n",
    "            for y in self.board.size:\n",
    "                if self.board[y][x].color == \"Black\":\n",
    "                    flag == False\n",
    "        return flag\n",
    "    "
   ]
  },
  {
   "cell_type": "code",
   "execution_count": 12,
   "id": "20f1205a",
   "metadata": {},
   "outputs": [
    {
     "data": {
      "text/plain": [
       "4"
      ]
     },
     "execution_count": 12,
     "metadata": {},
     "output_type": "execute_result"
    }
   ],
   "source": [
    "board = np.array([1,2,3,4])\n",
    "board.size"
   ]
  },
  {
   "cell_type": "code",
   "execution_count": null,
   "id": "6a20f868",
   "metadata": {},
   "outputs": [],
   "source": []
  }
 ],
 "metadata": {
  "kernelspec": {
   "display_name": "Python 3 (ipykernel)",
   "language": "python",
   "name": "python3"
  },
  "language_info": {
   "codemirror_mode": {
    "name": "ipython",
    "version": 3
   },
   "file_extension": ".py",
   "mimetype": "text/x-python",
   "name": "python",
   "nbconvert_exporter": "python",
   "pygments_lexer": "ipython3",
   "version": "3.9.19"
  }
 },
 "nbformat": 4,
 "nbformat_minor": 5
}
